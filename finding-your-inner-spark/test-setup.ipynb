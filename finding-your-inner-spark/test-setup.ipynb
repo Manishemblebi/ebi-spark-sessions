{
 "cells": [
  {
   "cell_type": "code",
   "execution_count": null,
   "metadata": {},
   "outputs": [],
   "source": [
    "import findspark\n",
    "findspark.init()\n",
    "from pyspark import SparkContext, SparkConf\n",
    "from pyspark.sql import SparkSession\n",
    "from pyspark.sql.functions import explode, col, desc\n",
    "from pyspark.sql.types import DecimalType"
   ]
  },
  {
   "cell_type": "code",
   "execution_count": null,
   "metadata": {},
   "outputs": [],
   "source": [
    "spark = SparkSession.builder.appName(\"SparkSessionsTest\").getOrCreate()"
   ]
  },
  {
   "cell_type": "code",
   "execution_count": null,
   "metadata": {},
   "outputs": [],
   "source": [
    "my_range = spark.range(1000).toDF(\"number\")"
   ]
  },
  {
   "cell_type": "code",
   "execution_count": null,
   "metadata": {},
   "outputs": [],
   "source": [
    "my_range.show(100)"
   ]
  },
  {
   "cell_type": "code",
   "execution_count": null,
   "metadata": {},
   "outputs": [],
   "source": [
    "my_range = my_range.where(col('number') % 2 == 0)"
   ]
  },
  {
   "cell_type": "code",
   "execution_count": null,
   "metadata": {
    "pycharm": {
     "name": "#%%\n"
    }
   },
   "outputs": [],
   "source": [
    "my_range.show()"
   ]
  },
  {
   "cell_type": "code",
   "execution_count": null,
   "metadata": {},
   "outputs": [],
   "source": [
    "users = [{'name': 'Mr. Lee Reid', 'address': 'Via Gaspare 128 Appartamento 25\\nGemma salentino, 84511 Cosenza (PC)', 'job': 'Passenger transport manager', 'dateOfBirth': '1941-04-19'}, {'name': 'Mtro. Rufino de la Fuente', 'address': 'Via Dolores 501\\nSettimo Guglielmo, 52281 Cuneo (OT)', 'job': 'Air traffic controller', 'dateOfBirth': '1948-04-09'}, {'name': 'Claudio Govoni', 'address': 'Viale Loretta 52 Piano 5\\nSan Niccolò, 49921 Milano (FG)', 'job': 'Lobbyist', 'dateOfBirth': '1944-06-25'}, {'name': 'Teresa Jurado Amador', 'address': 'Vicolo Olga 054 Appartamento 20\\nBorgo Veronica, 59529 Olbia-Tempio (PA)', 'job': 'Surgeon', 'dateOfBirth': '2012-04-09'}, {'name': 'Lara Capuana', 'address': \"Viale Caetani 868 Appartamento 72\\nGriselda nell'emilia, 90655 Pavia (OT)\", 'job': 'Diplomatic Services operational officer', 'dateOfBirth': '1949-04-16'}, {'name': 'Monica Bellini', 'address': 'Flat 9\\nMcDonald stream\\nWest Frances\\nWF46 0FE', 'job': 'Health physicist', 'dateOfBirth': '1953-07-18'}, {'name': 'Mr. Daniel Wood', 'address': 'Viaducto Norte Castañeda 424 Edif. 943 , Depto. 058\\nNueva República de Moldova, AGS 79875-3406', 'job': 'Psychologist, sport and exercise', 'dateOfBirth': '1908-10-03'}, {'name': 'Kirsty Tucker', 'address': 'Flat 95\\nHall mountains\\nPalmerbury\\nCB0N 0YB', 'job': 'Geneticist, molecular', 'dateOfBirth': '1991-01-20'}, {'name': 'Erika Gori', 'address': 'Boulevard Sur Posada 419 Edif. 014 , Depto. 297\\nVieja Guinea Ecuatorial, BCS 01696', 'job': 'Editor, film/video', 'dateOfBirth': '2006-05-18'}, {'name': 'Dr. Damien Ashton', 'address': \"Via Camanni 936\\nSesto Pasquale nell'emilia, 40101 Catanzaro (MC)\", 'job': 'Psychotherapist, child', 'dateOfBirth': '1994-03-13'}, {'name': 'Antonio Guillermina Méndez', 'address': 'Stretto Pepe 802 Piano 3\\nBorgo Mauro laziale, 21808 Palermo (NO)', 'job': 'Editorial assistant', 'dateOfBirth': '1984-09-27'}, {'name': 'Roy Phillips', 'address': 'Strada Brenna 18\\nRaffaello salentino, 72421 Roma (GO)', 'job': 'Medical technical officer', 'dateOfBirth': '1981-11-01'}, {'name': 'Gemma Carducci', 'address': 'Privada Sur Villareal 113 Interior 107\\nSan Eduardo los altos, CAMP 21881-9957', 'job': 'Legal secretary', 'dateOfBirth': '1936-01-25'}, {'name': 'Dott. Calcedonio Vismara', 'address': 'Corredor Sur Castro 538 Interior 306\\nVieja Chile, GRO 36458-4196', 'job': 'Agricultural engineer', 'dateOfBirth': '2017-04-01'}, {'name': 'Abril Cornelio Enríquez Madrigal', 'address': 'Canale Galilei 5\\nBorgo Guido, 00274 Cagliari (OG)', 'job': 'Diagnostic radiographer', 'dateOfBirth': '1980-03-10'}, {'name': 'Dionigi Russo', 'address': 'Studio 7\\nWatson squares\\nJanemouth\\nG4 8LD', 'job': 'Television camera operator', 'dateOfBirth': '2019-10-01'}, {'name': 'Isa Torricelli', 'address': 'Via Roero 7 Appartamento 63\\nRapisardi calabro, 22375 Siena (LO)', 'job': 'Cytogeneticist', 'dateOfBirth': '1944-03-04'}, {'name': 'Zacarías Araceli Alvarado', 'address': 'Incrocio Barese 55\\nBorgo Gianfrancesco, 85129 Ascoli Piceno (TR)', 'job': 'Scientist, product/process development', 'dateOfBirth': '1928-01-01'}, {'name': 'Luisa Hugo Ornelas Galarza', 'address': 'Viale Pietro 06 Appartamento 22\\nSettimo Rosaria ligure, 89760 Pavia (LT)', 'job': 'Armed forces technical officer', 'dateOfBirth': '2018-09-21'}, {'name': 'Mauro Rodríquez', 'address': 'Privada Saldivar 625 Interior 908\\nSan Lourdes los bajos, CAMP 10558', 'job': 'Musician', 'dateOfBirth': '1969-09-19'}, {'name': 'Dr. Magdalena Cedillo', 'address': 'Borgo Orlando 093 Appartamento 94\\nBorgo Giulio veneto, 29564 Vercelli (PG)', 'job': 'Teacher, adult education', 'dateOfBirth': '1940-06-24'}, {'name': 'Arcelia Patiño Campos', 'address': 'Eje vial Norte Balderas 627 Edif. 768 , Depto. 705\\nVieja Fiji, TAB 44324', 'job': 'Clinical biochemist', 'dateOfBirth': '1914-03-29'}, {'name': 'Estela Segovia', 'address': 'Incrocio Columbo 7\\nBorgo Donatella, 15232 Firenze (SP)', 'job': 'Teacher, adult education', 'dateOfBirth': '2003-10-09'}, {'name': 'Rufino Alcala', 'address': 'Calle San Luis Potosí 577 Edif. 855 , Depto. 923\\nNueva Mongolia, TAB 23994', 'job': 'Mental health nurse', 'dateOfBirth': '1998-09-05'}, {'name': 'Margaret Thompson', 'address': '5 Edwards prairie\\nPort Henrymouth\\nSW5E 5LP', 'job': 'Make', 'dateOfBirth': '1917-02-17'}, {'name': 'Denis Sanderson', 'address': 'Strada Flora 608 Piano 3\\nGiovanna a mare, 47640 Isernia (NU)', 'job': 'Designer, exhibition/display', 'dateOfBirth': '1938-04-05'}, {'name': 'Norman Roberts', 'address': 'Canale Loretta 46\\nSesto Antonia, 82857 Cagliari (BS)', 'job': 'Nature conservation officer', 'dateOfBirth': '1998-10-23'}, {'name': 'Pierina Bosurgi', 'address': 'Borgo Bianca 16\\nFiorino sardo, 73866 Macerata (BZ)', 'job': 'Chartered accountant', 'dateOfBirth': '1969-05-19'}, {'name': 'Sig. Daniele Cimarosa', 'address': 'Circunvalación Norte Saucedo 775 019\\nSan Adela de la Montaña, Q. ROO 73036', 'job': 'Chief Operating Officer', 'dateOfBirth': '1952-01-08'}, {'name': 'Ann Hayes', 'address': 'Stretto Giovanna 68\\nQuarto Niccolò umbro, 53329 Bolzano (RM)', 'job': 'Armed forces training and education officer', 'dateOfBirth': '2009-01-02'}, {'name': \"Jordan O'Neill-Turner\", 'address': 'Andador Sur Navarro 241 Edif. 290 , Depto. 506\\nVieja Papua Nueva Guinea, CAMP 96172-5703', 'job': 'Surveyor, minerals', 'dateOfBirth': '2007-08-25'}, {'name': 'Donna Calarco ', 'address': 'Prolongación Ulibarri 283 Interior 992\\nVieja Rumania, AGS 72472', 'job': 'Accountant, chartered management', 'dateOfBirth': '1987-11-07'}, {'name': 'Bernardo Indira Pizarro Esquibel', 'address': 'Pasaje Tlaxcala 030 Interior 930\\nSan Homero los bajos, DGO 88857-4755', 'job': 'Garment/textile technologist', 'dateOfBirth': '2017-10-22'}, {'name': \"Josephine O'Brien-Fleming\", 'address': 'Retorno Tijerina 359 Edif. 844 , Depto. 194\\nSan María Cristina los altos, GRO 98859-9646', 'job': 'Passenger transport manager', 'dateOfBirth': '1975-04-08'}, {'name': 'Donald Gregory', 'address': '26 Harrison flat\\nGeorgeshire\\nTF14 1LZ', 'job': 'Acupuncturist', 'dateOfBirth': '2020-01-24'}, {'name': 'Sig.ra Sandra Trillini ', 'address': 'Vicolo Gianni 92 Appartamento 22\\nLina a mare, 25284 Caserta (SO)', 'job': 'Radiographer, therapeutic', 'dateOfBirth': '1911-06-11'}, {'name': 'Roberto Estela Madrid', 'address': 'Studio 7\\nAbdul oval\\nPort Michelleland\\nBS61 3SN', 'job': 'Exhibitions officer, museum/gallery', 'dateOfBirth': '1994-03-29'}, {'name': 'Mr. Owen Jackson', 'address': 'Strada Coriolano 750 Piano 3\\nQuarto Liana salentino, 36849 Alessandria (VI)', 'job': 'Biochemist, clinical', 'dateOfBirth': '1904-10-01'}, {'name': 'Sr(a). Ana Colunga', 'address': 'Eje vial Sur Ballesteros 664 Interior 269\\nNueva Guatemala, CHIS 83188-0062', 'job': 'Hospital pharmacist', 'dateOfBirth': '1991-11-05'}, {'name': 'Elliott Benson', 'address': 'Studio 04g\\nDavey ford\\nNorth Shaneton\\nPH48 2BR', 'job': 'Optometrist', 'dateOfBirth': '2005-10-28'}, {'name': 'Elena Alfredo Ballesteros', 'address': 'Vicolo Gabriella 2 Appartamento 97\\nBorgo Monica sardo, 10774 Lodi (PG)', 'job': 'Contracting civil engineer', 'dateOfBirth': '2012-03-21'}, {'name': 'Paride Mazzini', 'address': '915 Harris neck\\nSouth Oliviabury\\nBN2Y 4TE', 'job': 'Pilot, airline', 'dateOfBirth': '1954-09-13'}, {'name': 'Abelardo José Emilio Luna Quezada', 'address': 'Andador Sur Heredia 484 Edif. 720 , Depto. 279\\nVieja Kiribati, QRO 08299-9990', 'job': 'Editor, commissioning', 'dateOfBirth': '1907-10-17'}, {'name': 'Annalisa Mastandrea-Carfagna', 'address': 'Peatonal Micronesia 567 871\\nNueva Mónaco, SIN 82613', 'job': 'Librarian, academic', 'dateOfBirth': '2012-12-16'}, {'name': 'Carla Salvador Mondragón Espinosa', 'address': '0 Parkinson key\\nWest Robin\\nTF52 6XZ', 'job': 'Chartered legal executive (England and Wales)', 'dateOfBirth': '1933-06-13'}, {'name': 'Daniel Morales', 'address': '0 Gregory glen\\nNorth Melissaburgh\\nB53 9FH', 'job': 'Education officer, community', 'dateOfBirth': '1938-03-31'}, {'name': 'Zoé Irene Rojo', 'address': 'Vicolo Gabriella 31 Piano 9\\nFlorio umbro, 36904 Lecco (BZ)', 'job': 'Counsellor', 'dateOfBirth': '1963-05-25'}, {'name': 'Mtro. Mario Beltrán', 'address': 'Ampliación Orozco 264 709\\nNueva Serbia, TAB 84550-1470', 'job': 'Engineer, technical sales', 'dateOfBirth': '2013-01-18'}, {'name': 'Alonso Acuña Carmona', 'address': 'Corredor Colima 365 210\\nSan Alfonso los altos, TAB 87996-0363', 'job': 'Museum/gallery curator', 'dateOfBirth': '1917-08-16'}, {'name': 'Pablo Carlota Ortiz Girón', 'address': 'Strada Turrini 928\\nSettimo Corrado calabro, 12474 Piacenza (SV)', 'job': 'Writer', 'dateOfBirth': '1913-04-30'}, {'name': 'Sig. Luigi Flaiano ', 'address': '77 Pearce radial\\nSinghville\\nIP4V 7UQ', 'job': 'Civil Service fast streamer', 'dateOfBirth': '1939-08-11'}, {'name': 'Óliver del Río', 'address': 'Flat 70I\\nClaire flats\\nNew Leigh\\nM07 0NX', 'job': 'Paediatric nurse', 'dateOfBirth': '1942-11-02'}, {'name': 'Martín Torres', 'address': 'Borgo Luciana 0\\nQuarto Benito, 87156 Sassari (CS)', 'job': 'Financial trader', 'dateOfBirth': '1972-03-18'}, {'name': 'Lic. Jorge Luis Calderón', 'address': 'Piazza Ruggero 999\\nQuarto Nedda a mare, 74529 Caserta (NO)', 'job': 'Research officer, government', 'dateOfBirth': '1937-05-22'}, {'name': 'Miss Katy Dean', 'address': 'Via Pier 6 Appartamento 00\\nDanilo sardo, 23067 Bergamo (OT)', 'job': 'Fisheries officer', 'dateOfBirth': '1999-05-13'}, {'name': 'Mr. Mohammed Duncan', 'address': \"Incrocio Antonello 9\\nQuarto Donato nell'emilia, 71778 La Spezia (TO)\", 'job': 'Programmer, applications', 'dateOfBirth': '1963-07-14'}, {'name': 'Chiara Petralli-Ficino', 'address': 'Retorno Norte Guerrero 677 Edif. 961 , Depto. 406\\nVieja República Checa, COL 09939', 'job': 'Systems analyst', 'dateOfBirth': '1916-02-07'}, {'name': 'Martin White-Jones', 'address': 'Studio 1\\nBowen lakes\\nNorth Cliffordtown\\nDD05 1QL', 'job': 'Designer, interior/spatial', 'dateOfBirth': '1990-08-13'}, {'name': 'Sig. Leopoldo Spinola', 'address': 'Viale Federico 907 Appartamento 32\\nQuarto Giovanni calabro, 73068 Pisa (AN)', 'job': 'Haematologist', 'dateOfBirth': '1917-01-14'}, {'name': 'Renzo Gaggini ', 'address': 'Flat 9\\nSamuel expressway\\nJonathanshire\\nM1 9HH', 'job': 'Producer, radio', 'dateOfBirth': '1923-05-29'}, {'name': 'Benjamin Gibbs', 'address': \"Incrocio Stefano 1 Piano 9\\nRocco nell'emilia, 54086 Latina (BL)\", 'job': 'Plant breeder/geneticist', 'dateOfBirth': '2015-09-20'}, {'name': 'César Ochoa', 'address': 'Flat 76j\\nNeil highway\\nEast Rosiemouth\\nPE88 4AZ', 'job': 'Information systems manager', 'dateOfBirth': '1958-06-04'}, {'name': 'Piero Gucci', 'address': \"548 Danielle ford\\nO'Brienside\\nN8 6AL\", 'job': 'Research officer, trade union', 'dateOfBirth': '1995-08-27'}, {'name': 'Berta Véliz Vela', 'address': 'Contrada Alberto 581 Piano 5\\nFicino laziale, 78150 Frosinone (AP)', 'job': 'Advertising art director', 'dateOfBirth': '2016-02-26'}, {'name': 'Ms. Brenda Gray', 'address': '6 Price meadow\\nSouth Alan\\nL3 8UW', 'job': 'Development worker, community', 'dateOfBirth': '1976-06-08'}, {'name': 'Lara Ricci', 'address': 'Studio 16\\nPerry crest\\nFryport\\nM2T 5JN', 'job': 'Clinical cytogeneticist', 'dateOfBirth': '1973-12-03'}, {'name': 'Mr. Simon Cole', 'address': 'Vicolo Achille 873\\nToso calabro, 48997 Pesaro e Urbino (PC)', 'job': 'Financial risk analyst', 'dateOfBirth': '2014-11-06'}, {'name': 'Sophia Tamborini', 'address': '911 King pike\\nAmberview\\nL95 5GW', 'job': 'Therapist, music', 'dateOfBirth': '1934-07-11'}, {'name': 'Maurice Smith', 'address': '27 Jackson orchard\\nSouth Stuart\\nJE3 4ZY', 'job': 'Dramatherapist', 'dateOfBirth': '1998-12-15'}, {'name': 'Rita Mazzocchi', 'address': 'Vicolo Paride 3\\nMichelotto a mare, 66362 Nuoro (TV)', 'job': 'Health visitor', 'dateOfBirth': '1939-08-06'}, {'name': 'Noelia Montoya Acevedo', 'address': '61 Randall cape\\nPort Ameliachester\\nG97 2ZG', 'job': 'Arts development officer', 'dateOfBirth': '1962-10-26'}, {'name': 'Dr. Mark Moss', 'address': '35 Allen station\\nPort Howardtown\\nS9T 6US', 'job': 'Forensic psychologist', 'dateOfBirth': '1905-04-28'}, {'name': 'Colin Chambers-Stevenson', 'address': 'Borgo Porzio 781 Appartamento 44\\nSesto Achille a mare, 56203 Piacenza (RG)', 'job': 'Producer, radio', 'dateOfBirth': '1977-07-10'}, {'name': 'Dr. Irene Wallace', 'address': 'Rotonda Melissa 08\\nQuarto Nicola, 19969 Roma (OG)', 'job': 'Secondary school teacher', 'dateOfBirth': '2012-03-14'}, {'name': 'Lucrezia Impastato ', 'address': '87 Reynolds loaf\\nStokesview\\nS26 8RJ', 'job': 'Press photographer', 'dateOfBirth': '1905-10-09'}, {'name': 'Tullio Palumbo', 'address': 'Vicolo Botta 855 Appartamento 90\\nIgnazio sardo, 82704 Teramo (AG)', 'job': 'Chiropodist', 'dateOfBirth': '1939-11-18'}, {'name': 'María Pedro Padilla', 'address': 'Borgo Saverio 261 Appartamento 84\\nSan Rosaria, 14794 Sondrio (VS)', 'job': 'Financial planner', 'dateOfBirth': '1907-05-26'}, {'name': 'Max Ellis-Spencer', 'address': 'Ampliación Colima 333 Edif. 047 , Depto. 790\\nVieja República Democrática del Congo, CHIS 28836-4991', 'job': 'Lecturer, higher education', 'dateOfBirth': '1919-08-25'}, {'name': 'Claudio Duarte', 'address': 'Studio 4\\nSarah junctions\\nPort Stuart\\nS1A 9YF', 'job': 'Network engineer', 'dateOfBirth': '1957-07-17'}, {'name': 'Ms. Kathleen Brown', 'address': 'Cerrada Morelos 431 Edif. 152 , Depto. 693\\nVieja Madagascar, COAH 92016', 'job': 'Gaffer', 'dateOfBirth': '1990-06-27'}, {'name': 'Robert Rowe', 'address': 'Ampliación Anaya 490 Interior 516\\nVieja Tayikistán, NAY 99819-2471', 'job': 'Health and safety inspector', 'dateOfBirth': '1935-03-11'}, {'name': 'Darío Bernardo Bustamante Bustos', 'address': \"Viale Enzio 5\\nSan Dario nell'emilia, 56223 Ogliastra (FC)\", 'job': 'Air broker', 'dateOfBirth': '1928-05-30'}, {'name': 'Renata Guidotti', 'address': 'Circunvalación Puebla 201 Edif. 019 , Depto. 938\\nSan Ricardo de la Montaña, SIN 00996', 'job': 'Product manager', 'dateOfBirth': '1971-08-09'}, {'name': 'Annalisa Ioppi', 'address': 'Viaducto Ecuador 395 Interior 233\\nVieja Guyana, YUC 80883', 'job': 'Therapist, occupational', 'dateOfBirth': '1980-06-29'}, {'name': 'Angélica Luisa Cantú', 'address': '5 Kathryn fork\\nNorth Sally\\nB2 9NF', 'job': 'Transport planner', 'dateOfBirth': '1916-03-15'}, {'name': 'Ángel Serafín Tórrez', 'address': 'Canale Tomasini 376 Appartamento 04\\nRubbia umbro, 29310 Bologna (NU)', 'job': 'Further education lecturer', 'dateOfBirth': '1973-07-04'}, {'name': 'Arsenio Bova-Nolcini', 'address': 'Studio 41\\nCarly parkway\\nSinghland\\nL0 6LJ', 'job': 'Chartered loss adjuster', 'dateOfBirth': '1937-12-16'}, {'name': 'Dott. Pierluigi Trevisan ', 'address': 'Contrada Lara 02 Piano 5\\nBoccioni ligure, 13729 Lodi (LI)', 'job': 'Journalist, magazine', 'dateOfBirth': '1978-04-09'}, {'name': 'Raffaellino Bonomo', 'address': '421 Bernard drives\\nWilliamsstad\\nSE39 9WB', 'job': 'Advertising copywriter', 'dateOfBirth': '1980-12-31'}, {'name': 'Octavio Lozano Longoria', 'address': 'Flat 33L\\nHyde falls\\nRhysshire\\nDY23 5WU', 'job': 'Pathologist', 'dateOfBirth': '1948-01-18'}, {'name': 'Fidel Núñez Mares', 'address': 'Avenida Cortez 815 Interior 475\\nNueva Irlanda, Q. ROO 07798', 'job': 'Health service manager', 'dateOfBirth': '1973-12-30'}, {'name': 'June Ward', 'address': '30 Donna villages\\nWilliamschester\\nRM4B 7UN', 'job': 'Psychiatric nurse', 'dateOfBirth': '1937-04-10'}, {'name': 'Elvia Alfaro Ávalos', 'address': 'Calle Castro 204 Edif. 973 , Depto. 530\\nNueva Francia, TAMPS 04112-4699', 'job': 'Editorial assistant', 'dateOfBirth': '1969-04-10'}, {'name': 'Barbara Charlton', 'address': 'Canale Bresciani 48\\nSesto Angelica, 95699 Carbonia-Iglesias (LU)', 'job': 'Building services engineer', 'dateOfBirth': '1930-12-15'}, {'name': 'Charles Baxter', 'address': '472 Naomi dale\\nSouth June\\nPE28 3DB', 'job': 'Hospital doctor', 'dateOfBirth': '1974-10-04'}, {'name': 'Dott. Elladio Pizziol ', 'address': 'Periférico República Dominicana 206 Interior 469\\nNueva El Salvador, COL 09748-6884', 'job': 'Dance movement psychotherapist', 'dateOfBirth': '1924-11-18'}, {'name': 'Mandy Wright', 'address': 'Pasaje Norte Orellana 961 Edif. 894 , Depto. 736\\nNueva Camerún, SLP 17810', 'job': 'Industrial buyer', 'dateOfBirth': '1934-04-13'}, {'name': 'Sig.ra Lisa Morlacchi ', 'address': 'Calzada Sur Rangel 446 439\\nSan Carlota los bajos, OAX 72970-4104', 'job': 'Science writer', 'dateOfBirth': '2010-07-21'}, {'name': 'Wendy Mistry', 'address': 'Circunvalación Colima 856 Interior 260\\nSan Guillermo de la Montaña, TAMPS 52558-3775', 'job': 'Corporate investment banker', 'dateOfBirth': '1943-01-30'}, {'name': 'Roberta Contrafatto', 'address': 'Via Tasso 0\\nBorgo Nicoletta, 35246 Sondrio (LU)', 'job': 'Editor, film/video', 'dateOfBirth': '1922-03-25'}]"
   ]
  },
  {
   "cell_type": "code",
   "execution_count": null,
   "outputs": [],
   "source": [
    "users_json = spark.sparkContext.parallelize(users)\n",
    "users_df = spark.read.json(users_json)"
   ],
   "metadata": {
    "collapsed": false,
    "pycharm": {
     "name": "#%%\n"
    }
   }
  },
  {
   "cell_type": "code",
   "execution_count": null,
   "metadata": {},
   "outputs": [],
   "source": [
    "users_json = spark.sparkContext.parallelize(users)\n",
    "users_df = spark.read.json(users_json)"
   ]
  }
 ],
 "metadata": {
  "kernelspec": {
   "display_name": "Python 3",
   "language": "python",
   "name": "python3"
  },
  "language_info": {
   "codemirror_mode": {
    "name": "ipython",
    "version": 3
   },
   "file_extension": ".py",
   "mimetype": "text/x-python",
   "name": "python",
   "nbconvert_exporter": "python",
   "pygments_lexer": "ipython3",
   "version": "3.7.5"
  },
  "pycharm": {
   "stem_cell": {
    "cell_type": "raw",
    "source": [],
    "metadata": {
     "collapsed": false
    }
   }
  }
 },
 "nbformat": 4,
 "nbformat_minor": 4
}